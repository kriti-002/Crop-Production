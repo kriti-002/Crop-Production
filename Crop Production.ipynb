{
 "cells": [
  {
   "cell_type": "code",
   "execution_count": 6,
   "id": "89be9df2-96d3-43d5-b63f-20cb12614669",
   "metadata": {},
   "outputs": [],
   "source": [
    "import numpy as np\n",
    "import pandas as pd\n",
    "import mlflow\n",
    "import logging\n",
    "import warnings\n",
    "from sklearn.model_selection import train_test_split\n",
    "from sklearn.linear_model import LinearRegression\n",
    "from sklearn.metrics import r2_score\n",
    "import matplotlib.pyplot as plt\n",
    "import io"
   ]
  },
  {
   "cell_type": "code",
   "execution_count": 7,
   "id": "6dad75c9-44b8-4aac-a107-587e1dd2af9d",
   "metadata": {},
   "outputs": [
    {
     "data": {
      "text/plain": [
       "<Logger __main__ (WARNING)>"
      ]
     },
     "execution_count": 7,
     "metadata": {},
     "output_type": "execute_result"
    }
   ],
   "source": [
    "logging.basicConfig(level=logging.WARN)\n",
    "logger = logging.getLogger(__name__)\n",
    "logger"
   ]
  },
  {
   "cell_type": "code",
   "execution_count": 8,
   "id": "bc09fa24-2539-46d3-9ce5-303600394d35",
   "metadata": {},
   "outputs": [
    {
     "name": "stderr",
     "output_type": "stream",
     "text": [
      "2024/06/14 16:56:18 INFO mlflow.tracking.fluent: Autologging successfully enabled for sklearn.\n"
     ]
    },
    {
     "name": "stdout",
     "output_type": "stream",
     "text": [
      "                         State_Name District_Name  Crop_Year       Season  \\\n",
      "0       Andaman and Nicobar Islands      NICOBARS       2000  Kharif        \n",
      "1       Andaman and Nicobar Islands      NICOBARS       2000  Kharif        \n",
      "2       Andaman and Nicobar Islands      NICOBARS       2000  Kharif        \n",
      "3       Andaman and Nicobar Islands      NICOBARS       2000  Whole Year    \n",
      "4       Andaman and Nicobar Islands      NICOBARS       2000  Whole Year    \n",
      "...                             ...           ...        ...          ...   \n",
      "246086                  West Bengal       PURULIA       2014  Summer        \n",
      "246087                  West Bengal       PURULIA       2014  Summer        \n",
      "246088                  West Bengal       PURULIA       2014  Whole Year    \n",
      "246089                  West Bengal       PURULIA       2014  Winter        \n",
      "246090                  West Bengal       PURULIA       2014  Winter        \n",
      "\n",
      "                       Crop      Area  Production  \n",
      "0                  Arecanut    1254.0      2000.0  \n",
      "1       Other Kharif pulses       2.0         1.0  \n",
      "2                      Rice     102.0       321.0  \n",
      "3                    Banana     176.0       641.0  \n",
      "4                 Cashewnut     720.0       165.0  \n",
      "...                     ...       ...         ...  \n",
      "246086                 Rice     306.0       801.0  \n",
      "246087              Sesamum     627.0       463.0  \n",
      "246088            Sugarcane     324.0     16250.0  \n",
      "246089                 Rice  279151.0    597899.0  \n",
      "246090              Sesamum     175.0        88.0  \n",
      "\n",
      "[246091 rows x 7 columns]\n",
      "           Crop_Year          Area    Production\n",
      "count  246091.000000  2.460910e+05  2.423610e+05\n",
      "mean     2005.643018  1.200282e+04  5.825034e+05\n",
      "std         4.952164  5.052340e+04  1.706581e+07\n",
      "min      1997.000000  4.000000e-02  0.000000e+00\n",
      "25%      2002.000000  8.000000e+01  8.800000e+01\n",
      "50%      2006.000000  5.820000e+02  7.290000e+02\n",
      "75%      2010.000000  4.392000e+03  7.023000e+03\n",
      "max      2015.000000  8.580100e+06  1.250800e+09\n",
      "(246091, 7)\n",
      "State_Name          0\n",
      "District_Name       0\n",
      "Crop_Year           0\n",
      "Season              0\n",
      "Crop                0\n",
      "Area                0\n",
      "Production       3730\n",
      "dtype: int64\n",
      "141176116767.38995\n",
      "Shape of training feature: (184568, 132)\n",
      "Shape of testing feature: (61523, 132)\n",
      "Shape of training label: (184568,)\n",
      "Shape of training label: (61523,)\n",
      "The r2 score for this model is : 1.0\n",
      "[-1.54208923e-10  1.41176117e+09  1.34371221e-05  8.65012407e-06\n",
      "  9.29087400e-06  7.63684511e-06  7.25686550e-06  1.09374523e-05\n",
      " -3.48113477e-04  6.44582324e-05 -1.25341117e-04 -1.10492110e-05\n",
      " -7.01406971e-05  1.83351804e-05 -9.67085361e-06  4.66406345e-05\n",
      " -1.20438635e-05  2.75609549e-04  2.15347856e-04  2.12247949e-04\n",
      "  8.82202294e-05  9.93199646e-05 -3.49543989e-05  7.76946545e-05\n",
      "  7.29188323e-05  4.00207937e-05  9.53450799e-05  9.77888703e-06\n",
      " -1.00135803e-05 -9.65869986e-05 -3.60012054e-05  1.59438932e-04\n",
      " -7.59381801e-05 -1.40368938e-05 -3.01711261e-05 -4.32021916e-05\n",
      " -1.51768327e-05  8.69534444e-04 -7.61006959e-06  2.66167335e-04\n",
      " -6.00665808e-05 -1.06692314e-05  1.62482262e-04  2.04248354e-05\n",
      " -5.49536198e-05 -1.13099813e-05 -6.67572021e-06 -3.16947699e-05\n",
      "  1.38346106e-04 -1.29863620e-05  9.50917602e-05 -1.06245279e-05\n",
      " -1.92672014e-05 -1.13025308e-05 -5.74635342e-05 -3.65224900e-04\n",
      " -1.09896064e-05 -1.32359564e-04  2.20702495e-04  9.23732296e-06\n",
      " -5.77010214e-05  7.92220235e-05 -9.53208655e-05 -1.84867531e-04\n",
      " -1.54557638e-04 -1.39176846e-05 -3.13637080e-04 -1.10268593e-05\n",
      " -3.33786011e-06 -1.43963844e-05  1.88946724e-05 -1.08182430e-05\n",
      "  2.23517418e-08 -4.71621752e-06  2.81929970e-05 -1.12801790e-05\n",
      "  1.05649233e-04  2.61887908e-06  3.24845314e-06  1.56215392e-04\n",
      " -2.31535319e-04 -1.97440386e-06 -9.04500484e-06  6.05843961e-05\n",
      " -6.38961792e-05  1.07228756e-04 -3.52622301e-04 -2.19098758e-04\n",
      " -1.55481393e-04 -1.33179128e-05 -8.71089287e-06  1.30731612e-04\n",
      " -2.38449080e-04 -4.16226685e-05  1.53804198e-04 -1.15633011e-05\n",
      "  2.66730785e-05 -1.55700371e-04 -1.09672546e-05  2.46946234e-04\n",
      " -1.26883388e-05  9.27243382e-05 -1.85186509e-04 -1.09672546e-05\n",
      " -1.18740136e-04  2.59876251e-05 -3.08901072e-05 -6.99143857e-05\n",
      " -1.04308128e-05 -2.13928521e-04 -1.06692314e-05 -1.06990337e-05\n",
      " -1.59591436e-05 -1.44541264e-05 -1.08331442e-05 -1.06692314e-05\n",
      " -1.35600567e-05  3.49879265e-05  9.16477293e-05 -9.87946987e-06\n",
      "  4.05460596e-05  7.18235970e-05 -1.52587891e-05 -6.46623084e-05\n",
      " -1.07884407e-05  1.76439993e-04 -5.29177487e-05 -1.23083591e-05\n",
      " -1.48531049e-04  2.93696066e-05  1.34136528e-04  4.26098704e-05]\n",
      "3.714580088853836e-06\n"
     ]
    }
   ],
   "source": [
    "if __name__ == \"__main__\":\n",
    "    \n",
    "    warnings.filterwarnings(\"ignore\")\n",
    "    np.random.seed(40)\n",
    "    mlflow.autolog()\n",
    "    # Set our tracking server uri for logging\n",
    "    mlflow.set_tracking_uri(uri=\"http://127.0.0.1:8080\")\n",
    "    \n",
    "    # Create a new MLflow Experiment\n",
    "    mlflow.set_experiment(\"My First MLOps Project\")\n",
    "\n",
    "    try:\n",
    "        file =(\"./data/crop_production.csv\")\n",
    "        df = pd.read_csv(file, delimiter=',')\n",
    "        print(df)\n",
    "        print(df.describe())  #max, min, count, mean, standard deviation etc.\n",
    "\n",
    "        \n",
    "    except Exception as e:\n",
    "        logger.exception(\n",
    "            \"Unable to download training & test CSV, check your internet connection. Error: %s\", e)\n",
    "        \n",
    "    print(df.shape)\n",
    "    print(df.isnull().sum())\n",
    "    df.fillna(0,inplace=True)\n",
    "    df.drop_duplicates()\n",
    "    sum_maxp = df[\"Production\"].sum()\n",
    "    print(sum_maxp)\n",
    "    df[\"percent_of_production\"] = df[\"Production\"].map(lambda x:(x/sum_maxp)*100)\n",
    "    data = df.drop([\"State_Name\",\"District_Name\", \"Crop_Year\"],axis=1)\n",
    "    data_dum = pd.get_dummies(data, dtype='int')\n",
    "    \n",
    "    X = data_dum.drop(\"Production\",axis=1).values\n",
    "    y = data_dum[\"Production\"].values\n",
    "\n",
    "    X_train, X_test, y_train, y_test = train_test_split(X , y, \n",
    "                                                        shuffle = True, \n",
    "                                                        test_size=0.25, \n",
    "                                                        random_state=1)\n",
    "    \n",
    "    print('Shape of training feature:', X_train.shape)\n",
    "    print('Shape of testing feature:', X_test.shape)\n",
    "    print('Shape of training label:', y_train.shape)\n",
    "    print('Shape of training label:', y_test.shape)\n",
    "    with mlflow.start_run():\n",
    "        model = LinearRegression()\n",
    "        model.fit(X_train,y_train)\n",
    "        preds = model.predict(X_test)\n",
    "        print(f\"The r2 score for this model is : {r2_score(y_test,preds)}\")\n",
    "        print(model.coef_)\n",
    "        print(model.intercept_)\n",
    "        "
   ]
  },
  {
   "cell_type": "code",
   "execution_count": 9,
   "id": "5517087d-7eb1-46e8-8253-1567fca47b06",
   "metadata": {},
   "outputs": [
    {
     "name": "stdout",
     "output_type": "stream",
     "text": [
      "['Autumn     ', 'Kharif     ', 'Rabi       ', 'Summer     ', 'Whole Year ', 'Winter     ']\n",
      "['Apple', 'Arcanut (Processed)', 'Arecanut', 'Arhar/Tur', 'Ash Gourd', 'Atcanut (Raw)', 'Bajra', 'Banana', 'Barley', 'Bean', 'Beans & Mutter(Vegetable)', 'Beet Root', 'Ber', 'Bhindi', 'Bitter Gourd', 'Black pepper', 'Blackgram', 'Bottle Gourd', 'Brinjal', 'Cabbage', 'Cardamom', 'Carrot', 'Cashewnut', 'Cashewnut Processed', 'Cashewnut Raw', 'Castor seed', 'Cauliflower', 'Citrus Fruit', 'Coconut ', 'Coffee', 'Colocosia', 'Cond-spcs other', 'Coriander', 'Cotton(lint)', 'Cowpea(Lobia)', 'Cucumber', 'Drum Stick', 'Dry chillies', 'Dry ginger', 'Garlic', 'Ginger', 'Gram', 'Grapes', 'Groundnut', 'Guar seed', 'Horse-gram', 'Jack Fruit', 'Jobster', 'Jowar', 'Jute', 'Jute & mesta', 'Kapas', 'Khesari', 'Korra', 'Lab-Lab', 'Lemon', 'Lentil', 'Linseed', 'Litchi', 'Maize', 'Mango', 'Masoor', 'Mesta', 'Moong(Green Gram)', 'Moth', 'Niger seed', 'Oilseeds total', 'Onion', 'Orange', 'Other  Rabi pulses', 'Other Cereals & Millets', 'Other Citrus Fruit', 'Other Dry Fruit', 'Other Fresh Fruits', 'Other Kharif pulses', 'Other Vegetables', 'Paddy', 'Papaya', 'Peach', 'Pear', 'Peas  (vegetable)', 'Peas & beans (Pulses)', 'Perilla', 'Pineapple', 'Plums', 'Pome Fruit', 'Pome Granet', 'Potato', 'Pulses total', 'Pump Kin', 'Ragi', 'Rajmash Kholar', 'Rapeseed &Mustard', 'Redish', 'Ribed Guard', 'Rice', 'Ricebean (nagadal)', 'Rubber', 'Safflower', 'Samai', 'Sannhamp', 'Sapota', 'Sesamum', 'Small millets', 'Snak Guard', 'Soyabean', 'Sugarcane', 'Sunflower', 'Sweet potato', 'Tapioca', 'Tea', 'Tobacco', 'Tomato', 'Total foodgrain', 'Turmeric', 'Turnip', 'Urad', 'Varagu', 'Water Melon', 'Wheat', 'Yam', 'other fibres', 'other misc. pulses', 'other oilseeds']\n"
     ]
    }
   ],
   "source": [
    "seasons= list(set(df[\"Season\"]))\n",
    "crops= list(set(df[\"Crop\"]))\n",
    "seasons.sort()\n",
    "print(seasons)\n",
    "crops.sort()\n",
    "print(crops)\n",
    "cols= list(data_dum.columns)\n",
    "cols=cols[4:]\n",
    "\n"
   ]
  },
  {
   "cell_type": "code",
   "execution_count": 19,
   "id": "5150038d-fe03-4412-9fd8-2a5e56f601d8",
   "metadata": {},
   "outputs": [
    {
     "name": "stdout",
     "output_type": "stream",
     "text": [
      "Running on local URL:  http://127.0.0.1:7868\n",
      "\n",
      "To create a public link, set `share=True` in `launch()`.\n"
     ]
    },
    {
     "data": {
      "text/html": [
       "<div><iframe src=\"http://127.0.0.1:7868/\" width=\"100%\" height=\"500\" allow=\"autoplay; camera; microphone; clipboard-read; clipboard-write;\" frameborder=\"0\" allowfullscreen></iframe></div>"
      ],
      "text/plain": [
       "<IPython.core.display.HTML object>"
      ]
     },
     "metadata": {},
     "output_type": "display_data"
    },
    {
     "data": {
      "text/plain": []
     },
     "execution_count": 19,
     "metadata": {},
     "output_type": "execute_result"
    }
   ],
   "source": [
    "import gradio as gr\n",
    "\n",
    "def greet(area, percent, season, crop):\n",
    "    arr= np.zeros(132, dtype=np.float64)\n",
    "    arr[0]= area\n",
    "    arr[1]= percent\n",
    "    \n",
    "    i=2\n",
    "    j=0\n",
    "    while i<8 and j<6 :\n",
    "        arr[i]= float(season== seasons[j])\n",
    "        i+=1\n",
    "        j+=1\n",
    "    j=0\n",
    "    while i<len(cols) and j<len(cols):\n",
    "        arr[i]=float(crop==crops[j])\n",
    "        i+=1\n",
    "        j+=1\n",
    "\n",
    "    arr= arr.reshape(-1, len(arr))\n",
    "    preds = model.predict(arr)\n",
    "    return preds[0]\n",
    "    \n",
    "demo = gr.Interface(\n",
    "    greet,\n",
    "    inputs=[  \n",
    "        gr.Number(),\n",
    "        gr.Number(),\n",
    "        gr.Radio(seasons),\n",
    "        gr.Dropdown(crops),\n",
    "     \n",
    "    ],\n",
    "    outputs=[gr.Textbox(label=\"Model Prediction\")],\n",
    "    title=\"Crop Production Prediction\",\n",
    "    description=\"This application has a machine learning model in the backend which predicts the production this year using the area, percent of production, season and the crop.\"\n",
    ")\n",
    "demo.launch()\n",
    "\n"
   ]
  },
  {
   "cell_type": "code",
   "execution_count": null,
   "id": "c0ba6af6-29a0-4d3f-b060-1dcb6d38a164",
   "metadata": {},
   "outputs": [],
   "source": []
  }
 ],
 "metadata": {
  "kernelspec": {
   "display_name": "Python 3 (ipykernel)",
   "language": "python",
   "name": "python3"
  },
  "language_info": {
   "codemirror_mode": {
    "name": "ipython",
    "version": 3
   },
   "file_extension": ".py",
   "mimetype": "text/x-python",
   "name": "python",
   "nbconvert_exporter": "python",
   "pygments_lexer": "ipython3",
   "version": "3.11.7"
  }
 },
 "nbformat": 4,
 "nbformat_minor": 5
}
