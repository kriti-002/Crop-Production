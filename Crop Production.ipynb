{
 "cells": [
  {
   "cell_type": "code",
   "execution_count": 1,
   "id": "89be9df2-96d3-43d5-b63f-20cb12614669",
   "metadata": {},
   "outputs": [],
   "source": [
    "import numpy as np\n",
    "import pandas as pd\n",
    "# import mlflow\n",
    "# import logging\n",
    "# import warnings\n",
    "from sklearn.model_selection import train_test_split\n",
    "from sklearn.linear_model import LinearRegression\n",
    "from sklearn.metrics import r2_score\n",
    "import matplotlib.pyplot as plt"
   ]
  },
  {
   "cell_type": "code",
   "execution_count": 2,
   "id": "6dad75c9-44b8-4aac-a107-587e1dd2af9d",
   "metadata": {},
   "outputs": [],
   "source": [
    "# logging.basicConfig(level=logging.WARN)\n",
    "# logger = logging.getLogger(__name__)\n",
    "# logger\n"
   ]
  },
  {
   "cell_type": "code",
   "execution_count": 3,
   "id": "94860590",
   "metadata": {},
   "outputs": [
    {
     "name": "stdout",
     "output_type": "stream",
     "text": [
      "                         State_Name District_Name  Crop_Year       Season  \\\n",
      "0       Andaman and Nicobar Islands      NICOBARS       2000  Kharif        \n",
      "1       Andaman and Nicobar Islands      NICOBARS       2000  Kharif        \n",
      "2       Andaman and Nicobar Islands      NICOBARS       2000  Kharif        \n",
      "3       Andaman and Nicobar Islands      NICOBARS       2000  Whole Year    \n",
      "4       Andaman and Nicobar Islands      NICOBARS       2000  Whole Year    \n",
      "...                             ...           ...        ...          ...   \n",
      "246086                  West Bengal       PURULIA       2014  Summer        \n",
      "246087                  West Bengal       PURULIA       2014  Summer        \n",
      "246088                  West Bengal       PURULIA       2014  Whole Year    \n",
      "246089                  West Bengal       PURULIA       2014  Winter        \n",
      "246090                  West Bengal       PURULIA       2014  Winter        \n",
      "\n",
      "                       Crop      Area  Production  \n",
      "0                  Arecanut    1254.0      2000.0  \n",
      "1       Other Kharif pulses       2.0         1.0  \n",
      "2                      Rice     102.0       321.0  \n",
      "3                    Banana     176.0       641.0  \n",
      "4                 Cashewnut     720.0       165.0  \n",
      "...                     ...       ...         ...  \n",
      "246086                 Rice     306.0       801.0  \n",
      "246087              Sesamum     627.0       463.0  \n",
      "246088            Sugarcane     324.0     16250.0  \n",
      "246089                 Rice  279151.0    597899.0  \n",
      "246090              Sesamum     175.0        88.0  \n",
      "\n",
      "[246091 rows x 7 columns]\n",
      "           Crop_Year          Area    Production\n",
      "count  246091.000000  2.460910e+05  2.423610e+05\n",
      "mean     2005.643018  1.200282e+04  5.825034e+05\n",
      "std         4.952164  5.052340e+04  1.706581e+07\n",
      "min      1997.000000  4.000000e-02  0.000000e+00\n",
      "25%      2002.000000  8.000000e+01  8.800000e+01\n",
      "50%      2006.000000  5.820000e+02  7.290000e+02\n",
      "75%      2010.000000  4.392000e+03  7.023000e+03\n",
      "max      2015.000000  8.580100e+06  1.250800e+09\n"
     ]
    }
   ],
   "source": [
    "file =(\"./data/crop_production.csv\")\n",
    "df = pd.read_csv(file, delimiter=',')\n",
    "print(df)\n",
    "print(df.describe())"
   ]
  },
  {
   "cell_type": "code",
   "execution_count": 4,
   "id": "3baf98d4",
   "metadata": {},
   "outputs": [
    {
     "name": "stdout",
     "output_type": "stream",
     "text": [
      "(246091, 7)\n",
      "State_Name          0\n",
      "District_Name       0\n",
      "Crop_Year           0\n",
      "Season              0\n",
      "Crop                0\n",
      "Area                0\n",
      "Production       3730\n",
      "dtype: int64\n",
      "141176116767.38995\n"
     ]
    }
   ],
   "source": [
    "print(df.shape)\n",
    "print(df.isnull().sum())\n",
    "df.fillna(0,inplace=True)\n",
    "df.drop_duplicates()\n",
    "sum_maxp = df[\"Production\"].sum()\n",
    "print(sum_maxp)\n",
    "df[\"percent_of_production\"] = df[\"Production\"].map(lambda x:(x/sum_maxp)*100)\n",
    "data = df.drop([\"State_Name\",\"District_Name\", \"Crop_Year\"],axis=1)\n",
    "data_dum = pd.get_dummies(data, dtype='int')\n",
    "    \n",
    "X = data_dum.drop(\"Production\",axis=1).values\n",
    "y = data_dum[\"Production\"].values"
   ]
  },
  {
   "cell_type": "code",
   "execution_count": 5,
   "id": "a48855fb",
   "metadata": {},
   "outputs": [
    {
     "name": "stdout",
     "output_type": "stream",
     "text": [
      "Shape of training feature: (184568, 132)\n",
      "Shape of testing feature: (61523, 132)\n",
      "Shape of training label: (184568,)\n",
      "Shape of training label: (61523,)\n",
      "The r2 score for this model is : 1.0\n",
      "[-1.53752436e-10  1.41176117e+09  2.59932131e-05  1.95465982e-05\n",
      "  2.18972564e-05  1.97812915e-05  1.93119049e-05  2.28136778e-05\n",
      " -3.61554325e-04  4.99188900e-05 -1.35064125e-04 -2.18153000e-05\n",
      " -8.23736191e-05  4.58955765e-06 -2.23517418e-05  3.43918800e-05\n",
      " -2.36034393e-05  2.61783600e-04  2.00390816e-04  1.94668770e-04\n",
      "  7.49230385e-05  8.46385956e-05 -4.62234020e-05  6.42538071e-05\n",
      "  5.93662262e-05  2.73883343e-05  8.14497471e-05 -2.02655792e-06\n",
      " -2.15917826e-05 -1.05932355e-04 -4.72515821e-05  1.44034624e-04\n",
      " -8.62926245e-05 -2.53580511e-05 -4.12911177e-05 -5.42812049e-05\n",
      " -2.67028809e-05  8.41438770e-04 -1.84401870e-05  2.49341130e-04\n",
      " -7.06110150e-05 -2.22921371e-05  1.47366896e-04  8.35210085e-06\n",
      " -6.59972429e-05 -2.29179859e-05 -1.82315707e-05 -4.26322222e-05\n",
      "  1.23791397e-04 -2.39163637e-05  8.16322863e-05 -2.25901604e-05\n",
      " -3.06889415e-05 -2.27168202e-05 -6.79716468e-05 -3.70115042e-04\n",
      " -2.26348639e-05 -1.41611323e-04  2.04518437e-04 -3.02493572e-06\n",
      " -6.84224069e-05  6.61872327e-05 -1.05019659e-04 -1.92821026e-04\n",
      " -1.63070858e-04 -2.53897160e-05 -3.19644809e-04 -2.27615237e-05\n",
      " -1.49793923e-05 -2.59168446e-05  7.19539821e-06 -2.23368406e-05\n",
      " -1.15782022e-05 -1.62497163e-05  1.62012875e-05 -2.25640833e-05\n",
      "  9.18777660e-05 -9.26852226e-06 -8.54954123e-06  1.41439959e-04\n",
      " -2.38634646e-04 -1.38357282e-05 -2.07312405e-05  4.76092100e-05\n",
      " -7.46697187e-05  9.32514668e-05 -3.57542187e-04 -2.26337463e-04\n",
      " -1.63987279e-04 -2.46167183e-05 -2.05114484e-05  1.16406009e-04\n",
      " -2.45567411e-04 -5.26448712e-05  1.38953328e-04 -2.31191516e-05\n",
      "  1.39027834e-05 -1.64248049e-04 -2.22362578e-05  2.30610371e-04\n",
      " -2.41622329e-05  7.92853534e-05 -1.93245709e-04 -2.32756138e-05\n",
      " -1.27963722e-04  1.31428242e-05 -4.19430435e-05 -8.01160932e-05\n",
      " -2.18879431e-05 -2.21386552e-04 -2.21338123e-05 -2.20052898e-05\n",
      " -2.72756442e-05 -2.58982182e-05 -2.26497650e-05 -2.24448740e-05\n",
      " -2.48402357e-05  2.27526762e-05  7.81826675e-05 -2.11670995e-05\n",
      "  2.79545784e-05  5.78202307e-05 -2.67028809e-05 -7.50049949e-05\n",
      " -2.22474337e-05  1.61498785e-04 -6.31101429e-05 -2.49668956e-05\n",
      " -1.56871974e-04  1.74753368e-05  1.20130368e-04  3.01315449e-05]\n",
      "3.5580014809966087e-06\n"
     ]
    }
   ],
   "source": [
    "X_train, X_test, y_train, y_test = train_test_split(X , y, \n",
    "                                                        shuffle = True, \n",
    "                                                        test_size=0.25, \n",
    "                                                        random_state=1)\n",
    "    \n",
    "print('Shape of training feature:', X_train.shape)\n",
    "print('Shape of testing feature:', X_test.shape)\n",
    "print('Shape of training label:', y_train.shape)\n",
    "print('Shape of training label:', y_test.shape)\n",
    "\n",
    "model = LinearRegression()\n",
    "model.fit(X_train,y_train)\n",
    "preds = model.predict(X_test)\n",
    "print(f\"The r2 score for this model is : {r2_score(y_test,preds)}\")\n",
    "print(model.coef_)\n",
    "print(model.intercept_)"
   ]
  },
  {
   "cell_type": "code",
   "execution_count": 6,
   "id": "5517087d-7eb1-46e8-8253-1567fca47b06",
   "metadata": {},
   "outputs": [
    {
     "name": "stdout",
     "output_type": "stream",
     "text": [
      "['Autumn     ', 'Kharif     ', 'Rabi       ', 'Summer     ', 'Whole Year ', 'Winter     ']\n",
      "['Apple', 'Arcanut (Processed)', 'Arecanut', 'Arhar/Tur', 'Ash Gourd', 'Atcanut (Raw)', 'Bajra', 'Banana', 'Barley', 'Bean', 'Beans & Mutter(Vegetable)', 'Beet Root', 'Ber', 'Bhindi', 'Bitter Gourd', 'Black pepper', 'Blackgram', 'Bottle Gourd', 'Brinjal', 'Cabbage', 'Cardamom', 'Carrot', 'Cashewnut', 'Cashewnut Processed', 'Cashewnut Raw', 'Castor seed', 'Cauliflower', 'Citrus Fruit', 'Coconut ', 'Coffee', 'Colocosia', 'Cond-spcs other', 'Coriander', 'Cotton(lint)', 'Cowpea(Lobia)', 'Cucumber', 'Drum Stick', 'Dry chillies', 'Dry ginger', 'Garlic', 'Ginger', 'Gram', 'Grapes', 'Groundnut', 'Guar seed', 'Horse-gram', 'Jack Fruit', 'Jobster', 'Jowar', 'Jute', 'Jute & mesta', 'Kapas', 'Khesari', 'Korra', 'Lab-Lab', 'Lemon', 'Lentil', 'Linseed', 'Litchi', 'Maize', 'Mango', 'Masoor', 'Mesta', 'Moong(Green Gram)', 'Moth', 'Niger seed', 'Oilseeds total', 'Onion', 'Orange', 'Other  Rabi pulses', 'Other Cereals & Millets', 'Other Citrus Fruit', 'Other Dry Fruit', 'Other Fresh Fruits', 'Other Kharif pulses', 'Other Vegetables', 'Paddy', 'Papaya', 'Peach', 'Pear', 'Peas  (vegetable)', 'Peas & beans (Pulses)', 'Perilla', 'Pineapple', 'Plums', 'Pome Fruit', 'Pome Granet', 'Potato', 'Pulses total', 'Pump Kin', 'Ragi', 'Rajmash Kholar', 'Rapeseed &Mustard', 'Redish', 'Ribed Guard', 'Rice', 'Ricebean (nagadal)', 'Rubber', 'Safflower', 'Samai', 'Sannhamp', 'Sapota', 'Sesamum', 'Small millets', 'Snak Guard', 'Soyabean', 'Sugarcane', 'Sunflower', 'Sweet potato', 'Tapioca', 'Tea', 'Tobacco', 'Tomato', 'Total foodgrain', 'Turmeric', 'Turnip', 'Urad', 'Varagu', 'Water Melon', 'Wheat', 'Yam', 'other fibres', 'other misc. pulses', 'other oilseeds']\n"
     ]
    }
   ],
   "source": [
    "seasons= list(set(df[\"Season\"]))\n",
    "crops= list(set(df[\"Crop\"]))\n",
    "seasons.sort()\n",
    "print(seasons)\n",
    "crops.sort()\n",
    "print(crops)\n",
    "cols= list(data_dum.columns)\n",
    "cols=cols[4:]\n",
    "\n"
   ]
  },
  {
   "cell_type": "code",
   "execution_count": 7,
   "id": "5150038d-fe03-4412-9fd8-2a5e56f601d8",
   "metadata": {},
   "outputs": [
    {
     "name": "stdout",
     "output_type": "stream",
     "text": [
      "Running on local URL:  http://127.0.0.1:7860\n",
      "\n",
      "To create a public link, set `share=True` in `launch()`.\n"
     ]
    },
    {
     "data": {
      "text/html": [
       "<div><iframe src=\"http://127.0.0.1:7860/\" width=\"100%\" height=\"500\" allow=\"autoplay; camera; microphone; clipboard-read; clipboard-write;\" frameborder=\"0\" allowfullscreen></iframe></div>"
      ],
      "text/plain": [
       "<IPython.core.display.HTML object>"
      ]
     },
     "metadata": {},
     "output_type": "display_data"
    },
    {
     "data": {
      "text/plain": []
     },
     "execution_count": 7,
     "metadata": {},
     "output_type": "execute_result"
    }
   ],
   "source": [
    "import gradio as gr\n",
    "\n",
    "def greet(area, percent, season, crop):\n",
    "    arr= np.zeros(132, dtype=np.float64)\n",
    "    arr[0]= area\n",
    "    arr[1]= percent\n",
    "    \n",
    "    i=2\n",
    "    j=0\n",
    "    while i<8 and j<6 :\n",
    "        arr[i]= float(season== seasons[j])\n",
    "        i+=1\n",
    "        j+=1\n",
    "    j=0\n",
    "    while i<len(cols) and j<len(cols):\n",
    "        arr[i]=float(crop==crops[j])\n",
    "        i+=1\n",
    "        j+=1\n",
    "\n",
    "    arr= arr.reshape(-1, len(arr))\n",
    "    preds = model.predict(arr)\n",
    "    return preds[0]\n",
    "    \n",
    "demo = gr.Interface(\n",
    "    greet,\n",
    "    inputs=[  \n",
    "        gr.Number(),\n",
    "        gr.Number(),\n",
    "        gr.Radio(seasons),\n",
    "        gr.Dropdown(crops),\n",
    "     \n",
    "    ],\n",
    "    outputs=[gr.Textbox(label=\"Model Prediction\")],\n",
    "    title=\"Crop Production Prediction\",\n",
    "    description=\"This application has a machine learning model in the backend which predicts the production this year using the area, percent of production, season and the crop.\"\n",
    ")\n",
    "demo.launch()\n",
    "\n"
   ]
  },
  {
   "cell_type": "code",
   "execution_count": null,
   "id": "c0ba6af6-29a0-4d3f-b060-1dcb6d38a164",
   "metadata": {},
   "outputs": [],
   "source": []
  }
 ],
 "metadata": {
  "kernelspec": {
   "display_name": "Python 3 (ipykernel)",
   "language": "python",
   "name": "python3"
  },
  "language_info": {
   "codemirror_mode": {
    "name": "ipython",
    "version": 3
   },
   "file_extension": ".py",
   "mimetype": "text/x-python",
   "name": "python",
   "nbconvert_exporter": "python",
   "pygments_lexer": "ipython3",
   "version": "3.12.0"
  }
 },
 "nbformat": 4,
 "nbformat_minor": 5
}
